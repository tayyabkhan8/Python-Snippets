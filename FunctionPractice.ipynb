{
 "cells": [
  {
   "cell_type": "markdown",
   "metadata": {},
   "source": [
    "LESSER OF TWO EVENS: Write a function that returns the lesser of two given numbers if both numbers are even, but returns the greater if one or both numbers are odd.\n",
    "lesser_of_two_evens(2,4) --> 2\n",
    "lesser_of_two_evens(2,5) --> 5"
   ]
  },
  {
   "cell_type": "code",
   "execution_count": 15,
   "metadata": {},
   "outputs": [
    {
     "name": "stdout",
     "output_type": "stream",
     "text": [
      "5\n"
     ]
    }
   ],
   "source": [
    "def lesserofevens(a,b):\n",
    "    if(a%2==0 and b%2==0):\n",
    "        return min(a,b)\n",
    "    else:\n",
    "        return max(a,b)\n",
    "r=lesserofevens(2,5)\n",
    "print(r)"
   ]
  },
  {
   "cell_type": "markdown",
   "metadata": {},
   "source": [
    "ANIMAL CRACKERS: Write a function takes a two-word string and returns True if both words begin with same letter.\n",
    "animal_crackers('Levelheaded Llama') --> True\n",
    "animal_crackers('Crazy Kangaroo') --> False"
   ]
  },
  {
   "cell_type": "code",
   "execution_count": 20,
   "metadata": {},
   "outputs": [
    {
     "name": "stdout",
     "output_type": "stream",
     "text": [
      "['Tayyab', 'khan']\n"
     ]
    },
    {
     "data": {
      "text/plain": [
       "False"
      ]
     },
     "execution_count": 20,
     "metadata": {},
     "output_type": "execute_result"
    }
   ],
   "source": [
    "def animalCrackers(text):\n",
    "    list1=text.split()\n",
    "    print(list1)\n",
    "    word1=list1[0]\n",
    "    word2=list1[1]\n",
    "    return word1[0]==word2[0]\n",
    "animalCrackers('Tayyab khan')"
   ]
  },
  {
   "cell_type": "markdown",
   "metadata": {},
   "source": [
    "MAKES TWENTY: Given two integers, return True if the sum of the integers is 20 or if one of the integers is 20. If not, return False."
   ]
  },
  {
   "cell_type": "code",
   "execution_count": 26,
   "metadata": {},
   "outputs": [
    {
     "data": {
      "text/plain": [
       "'TRUE'"
      ]
     },
     "execution_count": 26,
     "metadata": {},
     "output_type": "execute_result"
    }
   ],
   "source": [
    "def is_twenty(n1,n2):\n",
    "    if(n1==20 or n2==20 or n1+n2==20):\n",
    "        return 'TRUE'\n",
    "    else:\n",
    "        return 'False'\n",
    "is_twenty(18,2)"
   ]
  },
  {
   "cell_type": "markdown",
   "metadata": {},
   "source": [
    "OLD MACDONALD: Write a function that capitalizes the first and fourth letters of a name.\n",
    "old_macdonald('macdonald') --> MacDonald"
   ]
  },
  {
   "cell_type": "code",
   "execution_count": 29,
   "metadata": {},
   "outputs": [
    {
     "name": "stdout",
     "output_type": "stream",
     "text": [
      "MacDonald\n"
     ]
    }
   ],
   "source": [
    "def mcdonald(text):\n",
    "    return text[0].upper()+text[1:3]+text[3].upper()+text[4:]\n",
    "print(mcdonald('macdonald'))"
   ]
  },
  {
   "cell_type": "markdown",
   "metadata": {},
   "source": [
    "MASTER YODA: Given a sentence, return a sentence with the words reversed.\n",
    "master_yoda('I am home') --> 'home am I'\n",
    "master_yoda('We are ready') --> 'ready are We'"
   ]
  },
  {
   "cell_type": "code",
   "execution_count": 78,
   "metadata": {},
   "outputs": [
    {
     "name": "stdout",
     "output_type": "stream",
     "text": [
      "khan is name My\n"
     ]
    }
   ],
   "source": [
    "def Yoda(text):\n",
    "    list1=text.split()\n",
    "    reverse_list=list1[::-1]\n",
    "    print(\" \".join(reverse_list))\n",
    "Yoda('My name is khan')"
   ]
  },
  {
   "cell_type": "raw",
   "metadata": {},
   "source": [
    "FIND 33:\n",
    "Given a list of ints, return True if the array contains a 3 next to a 3 somewhere.\n",
    "\n",
    "has_33([1, 3, 3]) → True\n",
    "has_33([1, 3, 1, 3]) → False\n",
    "has_33([3, 1, 3]) → False"
   ]
  },
  {
   "cell_type": "code",
   "execution_count": 105,
   "metadata": {},
   "outputs": [
    {
     "name": "stdout",
     "output_type": "stream",
     "text": [
      "True\n"
     ]
    }
   ],
   "source": [
    "def is_33(list1):\n",
    "    for x in range(0,len(list1)-1):\n",
    "        if(list1[x]==list1[x+1]):\n",
    "            return True\n",
    "    return False\n",
    "print(is_33([1,3,3]))"
   ]
  },
  {
   "cell_type": "markdown",
   "metadata": {},
   "source": [
    "PAPER DOLL: Given a string, return a string where for every character in the original there are three characters\n",
    "paper_doll('Hello') --> 'HHHeeellllllooo'\n",
    "paper_doll('Mississippi') --> 'MMMiiissssssiiippppppiii'"
   ]
  },
  {
   "cell_type": "code",
   "execution_count": 56,
   "metadata": {},
   "outputs": [
    {
     "data": {
      "text/plain": [
       "'hhheeellllllooo'"
      ]
     },
     "execution_count": 56,
     "metadata": {},
     "output_type": "execute_result"
    }
   ],
   "source": [
    "def paperdoll(text):\n",
    "    a=\"\"\n",
    "    for x in text:\n",
    "        a+=x*3\n",
    "    return a\n",
    "paperdoll('hello')"
   ]
  },
  {
   "cell_type": "markdown",
   "metadata": {},
   "source": [
    "BLACKJACK: Given three integers between 1 and 11, if their sum is less than or equal to 21, return their sum. If their sum exceeds 21 and there's an eleven, reduce the total sum by 10. Finally, if the sum (even after adjustment) exceeds 21, return 'BUST'\n",
    "blackjack(5,6,7) --> 18\n",
    "blackjack(9,9,9) --> 'BUST'\n",
    "blackjack(9,9,11) --> 19"
   ]
  },
  {
   "cell_type": "code",
   "execution_count": 68,
   "metadata": {},
   "outputs": [
    {
     "name": "stdout",
     "output_type": "stream",
     "text": [
      "Bluff\n"
     ]
    }
   ],
   "source": [
    "def blackjack(a,b,c):\n",
    "    red=1\n",
    "    if a+b+c<=21:\n",
    "        return a+b+c\n",
    "    elif 11 in [a,b,c] and a+b+c-10<=21:\n",
    "        return a+b+c-10\n",
    "    else:\n",
    "        return 'Bluff'\n",
    "print(blackjack(9,9,9))"
   ]
  },
  {
   "cell_type": "raw",
   "metadata": {},
   "source": [
    "SUMMER OF '69: Return the sum of the numbers in the array, except ignore sections of numbers starting with a 6 and extending to the next 9 (every 6 will be followed by at least one 9). Return 0 for no numbers.\n",
    "summer_69([1, 3, 5]) --> 9\n",
    "summer_69([4, 5, 6, 7, 8, 9]) --> 9\n",
    "summer_69([2, 1, 6, 9, 11]) --> 14"
   ]
  },
  {
   "cell_type": "code",
   "execution_count": 77,
   "metadata": {},
   "outputs": [
    {
     "name": "stdout",
     "output_type": "stream",
     "text": [
      "8\n"
     ]
    }
   ],
   "source": [
    "def summmer_69(list1):\n",
    "    total=0\n",
    "    add=True\n",
    "    for num in list1:\n",
    "        while add:\n",
    "            if(num!=6):\n",
    "                total=total+num\n",
    "                break;\n",
    "            else:\n",
    "                add=False\n",
    "        while not add:\n",
    "            if(num!=9):\n",
    "                break\n",
    "            else:\n",
    "                add=True\n",
    "    return total\n",
    "print(summmer_69([1,2,3,6,5,8,9,2]))"
   ]
  },
  {
   "cell_type": "raw",
   "metadata": {},
   "source": [
    "SPY GAME: Write a function that takes in a list of integers and returns True if it contains 007 in order\n",
    " spy_game([1,2,4,0,0,7,5]) --> True\n",
    " spy_game([1,0,2,4,0,5,7]) --> True\n",
    " spy_game([1,7,2,0,4,5,0]) --> False"
   ]
  },
  {
   "cell_type": "code",
   "execution_count": 86,
   "metadata": {},
   "outputs": [
    {
     "name": "stdout",
     "output_type": "stream",
     "text": [
      "True\n"
     ]
    }
   ],
   "source": [
    "def james_bond(list1):\n",
    "    code=[0,0,7,'x']\n",
    "    for x in list1:\n",
    "            if x==code[0]:\n",
    "                code.pop(0)\n",
    "    return len(code)==1\n",
    "print(james_bond([1,0,2,3,5,0,5,6,4,7,8]))"
   ]
  },
  {
   "cell_type": "raw",
   "metadata": {},
   "source": [
    "COUNT PRIMES: Write a function that returns the number of prime numbers that exist up to and including a given number\n",
    "count_primes(100) --> 25"
   ]
  },
  {
   "cell_type": "code",
   "execution_count": 97,
   "metadata": {},
   "outputs": [
    {
     "name": "stdout",
     "output_type": "stream",
     "text": [
      "[2, 3, 5, 7, 11, 13, 17, 19, 23, 29, 31, 37, 41, 43, 47, 53, 59, 61, 67, 71, 73, 79, 83, 89, 97]\n",
      "25\n"
     ]
    }
   ],
   "source": [
    "def count_prime(num):\n",
    "    primes=[2]\n",
    "    x=3\n",
    "    if num<2:\n",
    "        return 0\n",
    "    while x<=num:\n",
    "        for y in range(3,x,2):\n",
    "            if x%y==0:\n",
    "                x=x+2\n",
    "                break\n",
    "        else:\n",
    "            primes.append(x)\n",
    "            x=x+2\n",
    "    print(primes)\n",
    "    return len(primes)\n",
    "print(count_prime(100))"
   ]
  },
  {
   "cell_type": "raw",
   "metadata": {},
   "source": [
    "PRINT BIG: Write a function that takes in a single letter, and returns a 5x5 representation of that letter\n",
    "print_big('a')\n",
    "\n",
    "out:   *  \n",
    "      * *\n",
    "     *****\n",
    "     *   *\n",
    "     *   *"
   ]
  },
  {
   "cell_type": "code",
   "execution_count": 101,
   "metadata": {},
   "outputs": [
    {
     "name": "stdout",
     "output_type": "stream",
     "text": [
      "**** \n",
      "*   *\n",
      "**** \n",
      "*   *\n",
      "**** \n"
     ]
    }
   ],
   "source": [
    "def print_big(letter):\n",
    "    patterns = {1:'  *  ',2:' * * ',3:'*   *',4:'*****',5:'**** ',6:'   * ',7:' *   ',8:'*   * ',9:'*    '}\n",
    "    alphabet = {'A':[1,2,4,3,3],'B':[5,3,5,3,5],'C':[4,9,9,9,4],'D':[5,3,3,3,5],'E':[4,9,4,9,4]}\n",
    "    for pattern in alphabet[letter.upper()]:\n",
    "        print(patterns[pattern])\n",
    "print_big('b')"
   ]
  }
 ],
 "metadata": {
  "kernelspec": {
   "display_name": "Python 3",
   "language": "python",
   "name": "python3"
  },
  "language_info": {
   "codemirror_mode": {
    "name": "ipython",
    "version": 3
   },
   "file_extension": ".py",
   "mimetype": "text/x-python",
   "name": "python",
   "nbconvert_exporter": "python",
   "pygments_lexer": "ipython3",
   "version": "3.6.4"
  }
 },
 "nbformat": 4,
 "nbformat_minor": 2
}
